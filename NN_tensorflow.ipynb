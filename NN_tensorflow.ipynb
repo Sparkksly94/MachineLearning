{
 "cells": [
  {
   "cell_type": "code",
   "execution_count": 42,
   "metadata": {},
   "outputs": [
    {
     "name": "stdout",
     "output_type": "stream",
     "text": [
      "['dist_walk_mid', 'dist_walk_low', 'dist_walk_high', 'no_ride', 'ride', 'hour6-12', 'hour0-6', 'hour12-18', 'hour18-24', 'MIRAMAR', 'ERANGEL', 'party_size_1', 'party_size_4', 'party_size_2', 'team_placement', 'M416', 'SCAR-L', 'hour', 'scaled_dmg_per', 'scaled_player_assists', 'scaled_player_dbno', 'scaled_player_dist_walk', 'scaled_player_dmg', 'scaled_player_kills', 'rank_categorized']\n"
     ]
    },
    {
     "data": {
      "text/plain": [
       "25"
      ]
     },
     "execution_count": 42,
     "metadata": {},
     "output_type": "execute_result"
    }
   ],
   "source": [
    "import tensorflow as tf\n",
    "import pandas as pd\n",
    "import numpy as np\n",
    "train = pd.read_csv('trainnew.csv', sep=',')\n",
    "valid = pd.read_csv('validnew.csv', sep=',')\n",
    "train = train.sample(frac=1)\n",
    "valid = valid.sample(frac=1)\n",
    "print(list(train.head()))\n",
    "len(list(train.head()))\n"
   ]
  },
  {
   "cell_type": "code",
   "execution_count": 43,
   "metadata": {},
   "outputs": [],
   "source": [
    "def parse_labels_and_features(dataset):\n",
    "  labels = dataset.iloc[:,24]\n",
    "  features = dataset.iloc[:,[0,1,3,5,6,7,9,15,16,18,19,20,21,22,23]] # Features\n",
    "  return labels, features\n",
    "training_targets, training_examples = parse_labels_and_features(train)\n",
    "validation_targets, validation_examples = parse_labels_and_features(valid)\n"
   ]
  },
  {
   "cell_type": "code",
   "execution_count": 44,
   "metadata": {},
   "outputs": [],
   "source": [
    "training_targets=training_targets-1\n",
    "validation_targets=validation_targets-1\n",
    "num=training_targets.count()"
   ]
  },
  {
   "cell_type": "code",
   "execution_count": 45,
   "metadata": {},
   "outputs": [
    {
     "name": "stdout",
     "output_type": "stream",
     "text": [
      "[[0. 0. 0. 1.]\n",
      " [0. 0. 0. 1.]\n",
      " [0. 0. 1. 0.]\n",
      " ...\n",
      " [0. 0. 0. 1.]\n",
      " [0. 0. 0. 1.]\n",
      " [0. 0. 0. 1.]]\n"
     ]
    }
   ],
   "source": [
    "t=training_targets\n",
    "v=validation_targets\n",
    "b=tf.one_hot(t,4)\n",
    "c=tf.one_hot(v,4)\n",
    "with tf.Session() as sess:\n",
    "    sess.run(tf.global_variables_initializer())\n",
    "    t = sess.run(b)\n",
    "    v = sess.run(c)\n",
    "    print(t)\n",
    "t=pd.DataFrame(t)\n",
    "v=pd.DataFrame(v)"
   ]
  },
  {
   "cell_type": "code",
   "execution_count": 24,
   "metadata": {},
   "outputs": [
    {
     "data": {
      "text/plain": [
       "0          0\n",
       "1          0\n",
       "2          0\n",
       "3          0\n",
       "4          0\n",
       "5          0\n",
       "6          0\n",
       "7          0\n",
       "8          0\n",
       "9          0\n",
       "10         0\n",
       "11         0\n",
       "12         0\n",
       "13         0\n",
       "14         0\n",
       "15         0\n",
       "16         0\n",
       "17         0\n",
       "18         0\n",
       "19         0\n",
       "20         0\n",
       "21         0\n",
       "22         0\n",
       "23         0\n",
       "24         0\n",
       "25         0\n",
       "26         0\n",
       "27         0\n",
       "28         0\n",
       "29         0\n",
       "          ..\n",
       "3646341    3\n",
       "3646342    3\n",
       "3646343    3\n",
       "3646344    3\n",
       "3646345    3\n",
       "3646346    3\n",
       "3646347    3\n",
       "3646348    3\n",
       "3646349    3\n",
       "3646350    3\n",
       "3646351    3\n",
       "3646352    3\n",
       "3646353    3\n",
       "3646354    3\n",
       "3646355    3\n",
       "3646356    3\n",
       "3646357    3\n",
       "3646358    3\n",
       "3646359    3\n",
       "3646360    3\n",
       "3646361    3\n",
       "3646362    3\n",
       "3646363    3\n",
       "3646364    3\n",
       "3646365    3\n",
       "3646366    3\n",
       "3646367    3\n",
       "3646368    3\n",
       "3646369    3\n",
       "3646370    3\n",
       "Name: rank_categorized, Length: 3646371, dtype: int64"
      ]
     },
     "execution_count": 24,
     "metadata": {},
     "output_type": "execute_result"
    }
   ],
   "source": []
  },
  {
   "cell_type": "code",
   "execution_count": 47,
   "metadata": {},
   "outputs": [
    {
     "name": "stdout",
     "output_type": "stream",
     "text": [
      "0.024348203\n",
      "0.5478095\n",
      "0.6573274\n",
      "0.68290895\n",
      "0.6836511\n",
      "0.68459564\n",
      "0.68527853\n",
      "0.6853567\n",
      "0.68636703\n",
      "{0.01: 0.6910889, 0.012: 0.6913431, 0.014: 0.69134974, 0.016: 0.6915818, 0.018: 0.69176275, 0.02: 0.69167805, 0.022: 0.69265133, 0.024: 0.69169116, 0.026: 0.6907738, 0.028: 0.6920573, 0.03: 0.6887506, 0.033: 0.6920022, 0.036: 0.6915818, 0.005: 0.6925016, 0.006: 0.69243664, 0.004: 0.692486, 0.002: 0.690081, 0.0022: 0.68636703}\n"
     ]
    },
    {
     "data": {
      "text/plain": [
       "0.6930932"
      ]
     },
     "execution_count": 47,
     "metadata": {},
     "output_type": "execute_result"
    }
   ],
   "source": [
    "# hyper-parameter\n",
    "result=0\n",
    "learning_rate = 0.0022\n",
    "epochs = 5\n",
    "batch_size = 10000\n",
    "# placeholder\n",
    "x = tf.placeholder(tf.float32, [None, 15])\n",
    "# y=0-3\n",
    "y = tf.placeholder(tf.float32, [None, 4])\n",
    "# hidden layer => w, b\n",
    "W1 = tf.Variable(tf.random_normal([15, 75], stddev=0.03), name='W1')\n",
    "b1 = tf.Variable(tf.random_normal([75]), name='b1')\n",
    "# output layer => w, b\n",
    "W2 = tf.Variable(tf.random_normal([75, 4], stddev=0.03), name='W2')\n",
    "b2 = tf.Variable(tf.random_normal([4]), name='b2')\n",
    "# hidden layer\n",
    "hidden_out = tf.add(tf.matmul(x, W1), b1)\n",
    "hidden_out = tf.nn.leaky_relu(hidden_out)\n",
    "\n",
    "# output\n",
    "y_ = tf.nn.softmax(tf.add(tf.matmul(hidden_out, W2), b2))\n",
    "y_clipped = tf.clip_by_value(y_, 1e-10, 0.9999999)\n",
    "cross_entropy = -tf.reduce_sum(y * tf.log(y_clipped))\n",
    "# potimizer\n",
    "optimizer = tf.train.AdamOptimizer(learning_rate=learning_rate).minimize(cross_entropy)\n",
    "# init operator\n",
    "init_op = tf.global_variables_initializer()\n",
    "\n",
    "# accuracy\n",
    "correct_prediction = tf.equal(tf.argmax(y, 1), tf.argmax(y_, 1))\n",
    "accuracy = tf.reduce_mean(tf.cast(correct_prediction, tf.float32))\n",
    "# session\n",
    "with tf.Session() as sess:\n",
    "    # init\n",
    "    sess.run(init_op)\n",
    "    steps=int(num/batch_size)\n",
    "    for i in range(steps):\n",
    "        start = (i * batch_size) % num\n",
    "        end = min(start+batch_size,num)\n",
    "        sess.run([optimizer,cross_entropy],feed_dict={x:training_examples[start:end],y:t[start:end]})\n",
    "        cur=sess.run(accuracy,feed_dict={x: validation_examples, y: v})\n",
    "        result=max(result,cur)\n",
    "        if i%50==0:\n",
    "            print(cur)\n",
    "            \n",
    "print(result)\n",
    "ret[learning_rate]=result\n",
    "print(ret)\n",
    "fin=max(fin,ret[max(ret,key=ret.get)])\n",
    "fin"
   ]
  },
  {
   "cell_type": "code",
   "execution_count": 14,
   "metadata": {},
   "outputs": [
    {
     "name": "stdout",
     "output_type": "stream",
     "text": [
      "0.6921676\n",
      "{0.01: 0.6910889, 0.012: 0.6913431, 0.014: 0.69134974, 0.016: 0.6915818, 0.018: 0.69176275, 0.02: 0.69167805, 0.022: 0.6921676}\n"
     ]
    },
    {
     "data": {
      "text/plain": [
       "0.6921676"
      ]
     },
     "execution_count": 14,
     "metadata": {},
     "output_type": "execute_result"
    }
   ],
   "source": []
  }
 ],
 "metadata": {
  "kernelspec": {
   "display_name": "conda_tensorflow_p36",
   "language": "python",
   "name": "conda_tensorflow_p36"
  },
  "language_info": {
   "codemirror_mode": {
    "name": "ipython",
    "version": 3
   },
   "file_extension": ".py",
   "mimetype": "text/x-python",
   "name": "python",
   "nbconvert_exporter": "python",
   "pygments_lexer": "ipython3",
   "version": "3.6.5"
  }
 },
 "nbformat": 4,
 "nbformat_minor": 2
}
